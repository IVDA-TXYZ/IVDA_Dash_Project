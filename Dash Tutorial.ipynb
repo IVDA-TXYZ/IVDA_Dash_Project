{
 "cells": [
  {
   "cell_type": "code",
   "execution_count": 26,
   "metadata": {},
   "outputs": [],
   "source": [
    "from dash import Dash, html, dcc"
   ]
  },
  {
   "cell_type": "code",
   "execution_count": 28,
   "metadata": {},
   "outputs": [
    {
     "ename": "TypeError",
     "evalue": "an integer is required (got type NoneType)",
     "output_type": "error",
     "traceback": [
      "\u001b[0;31m---------------------------------------------------------------------------\u001b[0m",
      "\u001b[0;31mTypeError\u001b[0m                                 Traceback (most recent call last)",
      "\u001b[1;32m/Users/nanfangwuyu/Desktop/StudyFolder/2022 HS/IVDA/Project/Project Work Space/Dash Tutorial.ipynb Cell 2\u001b[0m in \u001b[0;36m<cell line: 51>\u001b[0;34m()\u001b[0m\n\u001b[1;32m     <a href='vscode-notebook-cell:/Users/nanfangwuyu/Desktop/StudyFolder/2022%20HS/IVDA/Project/Project%20Work%20Space/Dash%20Tutorial.ipynb#W1sZmlsZQ%3D%3D?line=27'>28</a>\u001b[0m app\u001b[39m.\u001b[39mlayout \u001b[39m=\u001b[39m html\u001b[39m.\u001b[39mDiv(\n\u001b[1;32m     <a href='vscode-notebook-cell:/Users/nanfangwuyu/Desktop/StudyFolder/2022%20HS/IVDA/Project/Project%20Work%20Space/Dash%20Tutorial.ipynb#W1sZmlsZQ%3D%3D?line=28'>29</a>\u001b[0m     style \u001b[39m=\u001b[39m {\u001b[39m'\u001b[39m\u001b[39mbackgroundColor\u001b[39m\u001b[39m'\u001b[39m: colors[\u001b[39m'\u001b[39m\u001b[39mbackground\u001b[39m\u001b[39m'\u001b[39m]},\n\u001b[1;32m     <a href='vscode-notebook-cell:/Users/nanfangwuyu/Desktop/StudyFolder/2022%20HS/IVDA/Project/Project%20Work%20Space/Dash%20Tutorial.ipynb#W1sZmlsZQ%3D%3D?line=29'>30</a>\u001b[0m     children\u001b[39m=\u001b[39m[\n\u001b[0;32m   (...)\u001b[0m\n\u001b[1;32m     <a href='vscode-notebook-cell:/Users/nanfangwuyu/Desktop/StudyFolder/2022%20HS/IVDA/Project/Project%20Work%20Space/Dash%20Tutorial.ipynb#W1sZmlsZQ%3D%3D?line=47'>48</a>\u001b[0m     )\n\u001b[1;32m     <a href='vscode-notebook-cell:/Users/nanfangwuyu/Desktop/StudyFolder/2022%20HS/IVDA/Project/Project%20Work%20Space/Dash%20Tutorial.ipynb#W1sZmlsZQ%3D%3D?line=48'>49</a>\u001b[0m ])\n\u001b[1;32m     <a href='vscode-notebook-cell:/Users/nanfangwuyu/Desktop/StudyFolder/2022%20HS/IVDA/Project/Project%20Work%20Space/Dash%20Tutorial.ipynb#W1sZmlsZQ%3D%3D?line=50'>51</a>\u001b[0m \u001b[39mif\u001b[39;00m \u001b[39m__name__\u001b[39m \u001b[39m==\u001b[39m \u001b[39m'\u001b[39m\u001b[39m__main__\u001b[39m\u001b[39m'\u001b[39m:\n\u001b[0;32m---> <a href='vscode-notebook-cell:/Users/nanfangwuyu/Desktop/StudyFolder/2022%20HS/IVDA/Project/Project%20Work%20Space/Dash%20Tutorial.ipynb#W1sZmlsZQ%3D%3D?line=51'>52</a>\u001b[0m     app\u001b[39m.\u001b[39;49mrun_server(mode\u001b[39m=\u001b[39;49m\u001b[39m\"\u001b[39;49m\u001b[39minline\u001b[39;49m\u001b[39m\"\u001b[39;49m)\n",
      "File \u001b[0;32m~/opt/anaconda3/lib/python3.9/site-packages/jupyter_dash/jupyter_app.py:222\u001b[0m, in \u001b[0;36mJupyterDash.run_server\u001b[0;34m(self, mode, width, height, inline_exceptions, **kwargs)\u001b[0m\n\u001b[1;32m    220\u001b[0m old_server \u001b[39m=\u001b[39m \u001b[39mself\u001b[39m\u001b[39m.\u001b[39m_server_threads\u001b[39m.\u001b[39mget((host, port))\n\u001b[1;32m    221\u001b[0m \u001b[39mif\u001b[39;00m old_server:\n\u001b[0;32m--> 222\u001b[0m     old_server\u001b[39m.\u001b[39;49mkill()\n\u001b[1;32m    223\u001b[0m     old_server\u001b[39m.\u001b[39mjoin()\n\u001b[1;32m    224\u001b[0m     \u001b[39mdel\u001b[39;00m \u001b[39mself\u001b[39m\u001b[39m.\u001b[39m_server_threads[(host, port)]\n",
      "File \u001b[0;32m~/opt/anaconda3/lib/python3.9/site-packages/jupyter_dash/_stoppable_thread.py:16\u001b[0m, in \u001b[0;36mStoppableThread.kill\u001b[0;34m(self)\u001b[0m\n\u001b[1;32m     13\u001b[0m \u001b[39mdef\u001b[39;00m \u001b[39mkill\u001b[39m(\u001b[39mself\u001b[39m):\n\u001b[1;32m     14\u001b[0m     thread_id \u001b[39m=\u001b[39m \u001b[39mself\u001b[39m\u001b[39m.\u001b[39mget_id()\n\u001b[1;32m     15\u001b[0m     res \u001b[39m=\u001b[39m ctypes\u001b[39m.\u001b[39mpythonapi\u001b[39m.\u001b[39mPyThreadState_SetAsyncExc(\n\u001b[0;32m---> 16\u001b[0m         ctypes\u001b[39m.\u001b[39;49mc_long(thread_id), ctypes\u001b[39m.\u001b[39mpy_object(\u001b[39mSystemExit\u001b[39;00m)\n\u001b[1;32m     17\u001b[0m     )\n\u001b[1;32m     18\u001b[0m     \u001b[39mif\u001b[39;00m res \u001b[39m==\u001b[39m \u001b[39m0\u001b[39m:\n\u001b[1;32m     19\u001b[0m         \u001b[39mraise\u001b[39;00m \u001b[39mValueError\u001b[39;00m(\u001b[39mf\u001b[39m\u001b[39m\"\u001b[39m\u001b[39mInvalid thread id: \u001b[39m\u001b[39m{\u001b[39;00mthread_id\u001b[39m}\u001b[39;00m\u001b[39m\"\u001b[39m)\n",
      "\u001b[0;31mTypeError\u001b[0m: an integer is required (got type NoneType)"
     ]
    }
   ],
   "source": [
    "from dash import Dash, html, dcc\n",
    "import plotly.express as px\n",
    "import pandas as pd\n",
    "\n",
    "from jupyter_dash import JupyterDash\n",
    "app = JupyterDash(__name__)\n",
    "\n",
    "colors = {\n",
    "    'background': '#111111',\n",
    "    'text': '#7FDBFF'\n",
    "}\n",
    "\n",
    "df = pd.DataFrame({\n",
    "    \"Fruit\": [\"Apples\", \"Oranges\", \"Bananas\", \"Apples\", \"Oranges\", \"Bananas\"],\n",
    "    \"Amount\": [4, 1, 2, 2, 4, 5],\n",
    "    \"City\": [\"SF\", \"SF\", \"SF\", \"Montreal\", \"Montreal\", \"Montreal\"]\n",
    "})\n",
    "\n",
    "fig = px.bar(df, x=\"Fruit\", y=\"Amount\", color=\"City\", barmode=\"group\")\n",
    "\n",
    "fig.update_layout(\n",
    "    plot_bgcolor=colors['background'],\n",
    "    paper_bgcolor=colors['background'],\n",
    "    font_color=colors['text']\n",
    ")\n",
    "\n",
    "\n",
    "app.layout = html.Div(\n",
    "    style = {'backgroundColor': colors['background']},\n",
    "    children=[\n",
    "    html.H1(\n",
    "        children='Hello Dash',\n",
    "        style={\n",
    "            'textAlign': 'center',\n",
    "            'color': colors['text']\n",
    "        }\n",
    "        ),\n",
    "\n",
    "    html.Div(children='''\n",
    "        Dash: A web application framework for your data.\n",
    "    ''', \n",
    "        style = {'textAlign': 'center',\n",
    "        'color': colors['text']}),\n",
    "\n",
    "    dcc.Graph(\n",
    "        id='example-graph',\n",
    "        figure=fig\n",
    "    )\n",
    "])\n",
    "\n",
    "if __name__ == '__main__':\n",
    "    app.run_server(mode=\"inline\")\n",
    "    # app.run_server()"
   ]
  },
  {
   "cell_type": "code",
   "execution_count": null,
   "metadata": {},
   "outputs": [
    {
     "ename": "TypeError",
     "evalue": "run_simple() got an unexpected keyword argument 'mode'",
     "output_type": "error",
     "traceback": [
      "\u001b[0;31m---------------------------------------------------------------------------\u001b[0m",
      "\u001b[0;31mTypeError\u001b[0m                                 Traceback (most recent call last)",
      "\u001b[1;32m/Users/nanfangwuyu/Desktop/StudyFolder/2022 HS/IVDA/Project/Project Work Space/Dash Tutorial.ipynb Cell 3\u001b[0m in \u001b[0;36m<cell line: 29>\u001b[0;34m()\u001b[0m\n\u001b[1;32m     <a href='vscode-notebook-cell:/Users/nanfangwuyu/Desktop/StudyFolder/2022%20HS/IVDA/Project/Project%20Work%20Space/Dash%20Tutorial.ipynb#W2sZmlsZQ%3D%3D?line=23'>24</a>\u001b[0m app\u001b[39m.\u001b[39mlayout \u001b[39m=\u001b[39m html\u001b[39m.\u001b[39mDiv([\n\u001b[1;32m     <a href='vscode-notebook-cell:/Users/nanfangwuyu/Desktop/StudyFolder/2022%20HS/IVDA/Project/Project%20Work%20Space/Dash%20Tutorial.ipynb#W2sZmlsZQ%3D%3D?line=24'>25</a>\u001b[0m     html\u001b[39m.\u001b[39mH4(children\u001b[39m=\u001b[39m\u001b[39m'\u001b[39m\u001b[39mUS Agriculture Exports (2011)\u001b[39m\u001b[39m'\u001b[39m),\n\u001b[1;32m     <a href='vscode-notebook-cell:/Users/nanfangwuyu/Desktop/StudyFolder/2022%20HS/IVDA/Project/Project%20Work%20Space/Dash%20Tutorial.ipynb#W2sZmlsZQ%3D%3D?line=25'>26</a>\u001b[0m     generate_table(df)\n\u001b[1;32m     <a href='vscode-notebook-cell:/Users/nanfangwuyu/Desktop/StudyFolder/2022%20HS/IVDA/Project/Project%20Work%20Space/Dash%20Tutorial.ipynb#W2sZmlsZQ%3D%3D?line=26'>27</a>\u001b[0m ])\n\u001b[1;32m     <a href='vscode-notebook-cell:/Users/nanfangwuyu/Desktop/StudyFolder/2022%20HS/IVDA/Project/Project%20Work%20Space/Dash%20Tutorial.ipynb#W2sZmlsZQ%3D%3D?line=28'>29</a>\u001b[0m \u001b[39mif\u001b[39;00m \u001b[39m__name__\u001b[39m \u001b[39m==\u001b[39m \u001b[39m'\u001b[39m\u001b[39m__main__\u001b[39m\u001b[39m'\u001b[39m:\n\u001b[0;32m---> <a href='vscode-notebook-cell:/Users/nanfangwuyu/Desktop/StudyFolder/2022%20HS/IVDA/Project/Project%20Work%20Space/Dash%20Tutorial.ipynb#W2sZmlsZQ%3D%3D?line=29'>30</a>\u001b[0m     app\u001b[39m.\u001b[39;49mrun(mode\u001b[39m=\u001b[39;49m\u001b[39m\"\u001b[39;49m\u001b[39minline\u001b[39;49m\u001b[39m\"\u001b[39;49m)\n",
      "File \u001b[0;32m~/opt/anaconda3/lib/python3.9/site-packages/dash/dash.py:1980\u001b[0m, in \u001b[0;36mDash.run\u001b[0;34m(self, host, port, proxy, debug, dev_tools_ui, dev_tools_props_check, dev_tools_serve_dev_bundles, dev_tools_hot_reload, dev_tools_hot_reload_interval, dev_tools_hot_reload_watch_interval, dev_tools_hot_reload_max_retry, dev_tools_silence_routes_logging, dev_tools_prune_errors, **flask_run_options)\u001b[0m\n\u001b[1;32m   1977\u001b[0m         \u001b[39melif\u001b[39;00m os\u001b[39m.\u001b[39mpath\u001b[39m.\u001b[39misfile(path):\n\u001b[1;32m   1978\u001b[0m             extra_files\u001b[39m.\u001b[39mappend(path)\n\u001b[0;32m-> 1980\u001b[0m \u001b[39mself\u001b[39;49m\u001b[39m.\u001b[39;49mserver\u001b[39m.\u001b[39;49mrun(host\u001b[39m=\u001b[39;49mhost, port\u001b[39m=\u001b[39;49mport, debug\u001b[39m=\u001b[39;49mdebug, \u001b[39m*\u001b[39;49m\u001b[39m*\u001b[39;49mflask_run_options)\n",
      "File \u001b[0;32m~/opt/anaconda3/lib/python3.9/site-packages/flask/app.py:990\u001b[0m, in \u001b[0;36mFlask.run\u001b[0;34m(self, host, port, debug, load_dotenv, **options)\u001b[0m\n\u001b[1;32m    987\u001b[0m \u001b[39mfrom\u001b[39;00m \u001b[39mwerkzeug\u001b[39;00m\u001b[39m.\u001b[39;00m\u001b[39mserving\u001b[39;00m \u001b[39mimport\u001b[39;00m run_simple\n\u001b[1;32m    989\u001b[0m \u001b[39mtry\u001b[39;00m:\n\u001b[0;32m--> 990\u001b[0m     run_simple(host, port, \u001b[39mself\u001b[39;49m, \u001b[39m*\u001b[39;49m\u001b[39m*\u001b[39;49moptions)\n\u001b[1;32m    991\u001b[0m \u001b[39mfinally\u001b[39;00m:\n\u001b[1;32m    992\u001b[0m     \u001b[39m# reset the first request information if the development server\u001b[39;00m\n\u001b[1;32m    993\u001b[0m     \u001b[39m# reset normally.  This makes it possible to restart the server\u001b[39;00m\n\u001b[1;32m    994\u001b[0m     \u001b[39m# without reloader and that stuff from an interactive shell.\u001b[39;00m\n\u001b[1;32m    995\u001b[0m     \u001b[39mself\u001b[39m\u001b[39m.\u001b[39m_got_first_request \u001b[39m=\u001b[39m \u001b[39mFalse\u001b[39;00m\n",
      "\u001b[0;31mTypeError\u001b[0m: run_simple() got an unexpected keyword argument 'mode'"
     ]
    }
   ],
   "source": [
    "from dash import Dash, html\n",
    "import pandas as pd\n",
    "\n",
    "from jupyter_dash import JupyterDash\n",
    "app = JupyterDash(__name__)\n",
    "df = pd.read_csv('https://gist.githubusercontent.com/chriddyp/c78bf172206ce24f77d6363a2d754b59/raw/c353e8ef842413cae56ae3920b8fd78468aa4cb2/usa-agricultural-exports-2011.csv')\n",
    "\n",
    "\n",
    "def generate_table(dataframe, max_rows=10):\n",
    "    return html.Table([\n",
    "        html.Thead(\n",
    "            html.Tr([html.Th(col) for col in dataframe.columns])\n",
    "        ),\n",
    "        html.Tbody([\n",
    "            html.Tr([\n",
    "                html.Td(dataframe.iloc[i][col]) for col in dataframe.columns\n",
    "            ]) for i in range(min(len(dataframe), max_rows))\n",
    "        ])\n",
    "    ])\n",
    "\n",
    "\n",
    "# app = Dash(__name__)\n",
    "\n",
    "app.layout = html.Div([\n",
    "    html.H4(children='US Agriculture Exports (2011)'),\n",
    "    generate_table(df)\n",
    "])\n",
    "\n",
    "if __name__ == '__main__':\n",
    "    app.run_server(mode=\"inline\")"
   ]
  },
  {
   "cell_type": "code",
   "execution_count": null,
   "metadata": {},
   "outputs": [],
   "source": []
  }
 ],
 "metadata": {
  "kernelspec": {
   "display_name": "Python 3.9.12 ('base')",
   "language": "python",
   "name": "python3"
  },
  "language_info": {
   "codemirror_mode": {
    "name": "ipython",
    "version": 3
   },
   "file_extension": ".py",
   "mimetype": "text/x-python",
   "name": "python",
   "nbconvert_exporter": "python",
   "pygments_lexer": "ipython3",
   "version": "3.9.12"
  },
  "orig_nbformat": 4,
  "vscode": {
   "interpreter": {
    "hash": "29ac1603b20e9949adfba2c1d532dd9772466cd9cf36154d7b125df92c7f874c"
   }
  }
 },
 "nbformat": 4,
 "nbformat_minor": 2
}
